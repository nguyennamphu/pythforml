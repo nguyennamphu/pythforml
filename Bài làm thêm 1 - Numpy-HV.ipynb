{
 "cells": [
  {
   "cell_type": "markdown",
   "metadata": {
    "id": "ydCQ7cGw_zrw"
   },
   "source": [
    "# Bài làm thêm 1 - Numpy\n",
    "\n"
   ]
  },
  {
   "cell_type": "code",
   "execution_count": 1,
   "metadata": {
    "id": "K3fwpSqY_zr2"
   },
   "outputs": [],
   "source": [
    "import numpy as np"
   ]
  },
  {
   "cell_type": "code",
   "execution_count": 83,
   "metadata": {
    "id": "ywRJ-7pM_zsb"
   },
   "outputs": [
    {
     "data": {
      "text/plain": [
       "array([18, 25, 23, 18, 21, 28, 21, 18, 17, 12])"
      ]
     },
     "execution_count": 83,
     "metadata": {},
     "output_type": "execute_result"
    }
   ],
   "source": [
    "#1. Tạo mảng ngẫu nhiên 10 phần tử số nguyên từ 10-29\n",
    "np.random.seed(2)\n",
    "arr = np.random.randint(10,29,size=10)\n",
    "arr"
   ]
  },
  {
   "cell_type": "markdown",
   "metadata": {
    "id": "YoeFlgdD_zs7",
    "tags": []
   },
   "source": [
    "<details>\n",
    "  <summary>Nhấn vào đây để xem kết quả !</summary>\n",
    "  \n",
    "  <pre>array([18, 25, 23, 18, 21, 28, 21, 18, 17, 12])\n",
    "</pre>\n",
    "\n",
    "</details>"
   ]
  },
  {
   "cell_type": "code",
   "execution_count": 17,
   "metadata": {
    "id": "3e7T-IPc_ztA",
    "tags": []
   },
   "outputs": [
    {
     "data": {
      "text/plain": [
       "dtype('int64')"
      ]
     },
     "execution_count": 17,
     "metadata": {},
     "output_type": "execute_result"
    }
   ],
   "source": [
    "#2. Cho biết kiểu dữ liệu các phần tử của arr1\n",
    "arr.dtype"
   ]
  },
  {
   "cell_type": "markdown",
   "metadata": {
    "id": "qr_FFiUP_ztk"
   },
   "source": [
    "<details>\n",
    "  <summary>Nhấn vào đây để xem kết quả !</summary>\n",
    "  \n",
    "  <pre>dtype('int32')\n",
    "</pre>\n",
    "\n",
    "</details>"
   ]
  },
  {
   "cell_type": "code",
   "execution_count": 33,
   "metadata": {
    "id": "oRi09KBI_ztm"
   },
   "outputs": [
    {
     "data": {
      "text/plain": [
       "80"
      ]
     },
     "execution_count": 33,
     "metadata": {},
     "output_type": "execute_result"
    }
   ],
   "source": [
    "#3. Cho biết dung lượng bộ nhớ của mảng arr1\n",
    "arr.nbytes"
   ]
  },
  {
   "cell_type": "markdown",
   "metadata": {
    "id": "q5lKpi47_zt5"
   },
   "source": [
    "<details>\n",
    "  <summary>Nhấn vào đây để xem kết quả !</summary>\n",
    "  \n",
    "  <pre>40\n",
    "</pre>\n",
    "\n",
    "</details>"
   ]
  },
  {
   "cell_type": "code",
   "execution_count": 23,
   "metadata": {
    "id": "b1HbPgAd_zuM"
   },
   "outputs": [
    {
     "data": {
      "text/plain": [
       "array([-1, 25, 23, -1, -1, 28, -1, -1, 17, -1])"
      ]
     },
     "execution_count": 23,
     "metadata": {},
     "output_type": "execute_result"
    }
   ],
   "source": [
    "#4. Tạo mảng arr2 là mảng arr1 nhưng có các giá trị chia hết cho 3 được thay bằng -1\n",
    "arr2 = np.where(arr%3 == 0, -1, arr)\n",
    "arr2"
   ]
  },
  {
   "cell_type": "markdown",
   "metadata": {
    "id": "JUSR9ZUG_zuo"
   },
   "source": [
    "<details>\n",
    "  <summary>Nhấn vào đây để xem kết quả !</summary>\n",
    "  \n",
    "  <pre>array([-1, 25, 23, -1, -1, 28, -1, -1, 17, -1])\n",
    "</pre>\n",
    "\n",
    "</details>"
   ]
  },
  {
   "cell_type": "code",
   "execution_count": 24,
   "metadata": {
    "id": "LuQY4h8w_zuq"
   },
   "outputs": [
    {
     "data": {
      "text/plain": [
       "array([25, 18, 23, 15, 34, 25, 26, 24, 25, 21])"
      ]
     },
     "execution_count": 24,
     "metadata": {},
     "output_type": "execute_result"
    }
   ],
   "source": [
    "#5. Phát sinh mảng arr3 ngẫu nhiên 10 phần tử số nguyên từ 15-35\n",
    "np.random.seed(3)\n",
    "arr3 = np.random.randint(15,35,size=10)\n",
    "arr3"
   ]
  },
  {
   "cell_type": "markdown",
   "metadata": {
    "id": "X2hAYpdN_zva"
   },
   "source": [
    "<details>\n",
    "  <summary>Nhấn vào đây để xem kết quả !</summary>\n",
    "  \n",
    "  <pre>array([25, 18, 23, 15, 34, 25, 26, 24, 25, 21])\n",
    "</pre>\n",
    "\n",
    "</details>"
   ]
  },
  {
   "cell_type": "code",
   "execution_count": 26,
   "metadata": {
    "id": "gVPr0nAo_zve"
   },
   "outputs": [
    {
     "data": {
      "text/plain": [
       "array([18, 21, 23, 25])"
      ]
     },
     "execution_count": 26,
     "metadata": {},
     "output_type": "execute_result"
    }
   ],
   "source": [
    "#6.  Liệt kê ra các phần tử giống nhau trong arr1 và arr3\n",
    "same_results = np.intersect1d(arr, arr3)\n",
    "same_results "
   ]
  },
  {
   "cell_type": "markdown",
   "metadata": {
    "id": "pf5ZBS8y_zvv"
   },
   "source": [
    "<details>\n",
    "  <summary>Nhấn vào đây để xem kết quả !</summary>\n",
    "  \n",
    "  <pre>array([23])\n",
    "</pre>\n",
    "\n",
    "</details>"
   ]
  },
  {
   "cell_type": "code",
   "execution_count": 86,
   "metadata": {
    "id": "LFCnnyUw_zvx"
   },
   "outputs": [
    {
     "data": {
      "text/plain": [
       "array([[18, 25, 23, 18, 21],\n",
       "       [28, 21, 18, 17, 12]])"
      ]
     },
     "execution_count": 86,
     "metadata": {},
     "output_type": "execute_result"
    }
   ],
   "source": [
    "#7. Tạo mảng arr4 là mảng arr1 nhưng có 2 dòng, 5 cột \n",
    "arr4 = np.reshape(arr, (2,5))\n",
    "arr4"
   ]
  },
  {
   "cell_type": "markdown",
   "metadata": {
    "id": "66NdNqNW_zwQ"
   },
   "source": [
    "<details>\n",
    "  <summary>Nhấn vào đây để xem kết quả !</summary>\n",
    "  \n",
    "  <pre>array([[18, 25, 23, 18, 21],\n",
    "       [28, 21, 18, 17, 12]])\n",
    "</pre>\n",
    "\n",
    "</details>"
   ]
  },
  {
   "cell_type": "code",
   "execution_count": 103,
   "metadata": {
    "id": "2DvBAbRT_zwZ"
   },
   "outputs": [
    {
     "data": {
      "text/plain": [
       "array([[18, 25, 23, 18, 21],\n",
       "       [28, 21, 18, 17, 12]])"
      ]
     },
     "execution_count": 103,
     "metadata": {},
     "output_type": "execute_result"
    }
   ],
   "source": [
    "#8. Hoán đổi 2 dòng của mảng arr4\n",
    "arr4[[0,1]] = arr4[[1,0]]\n",
    "arr4"
   ]
  },
  {
   "cell_type": "markdown",
   "metadata": {
    "id": "2o5tCupI_zwl"
   },
   "source": [
    "<details>\n",
    "  <summary>Nhấn vào đây để xem kết quả !</summary>\n",
    "  \n",
    "  <pre>array([[28, 21, 18, 17, 12],\n",
    "       [18, 25, 23, 18, 21]])\n",
    "</pre>\n",
    "\n",
    "</details>"
   ]
  },
  {
   "cell_type": "code",
   "execution_count": 108,
   "metadata": {
    "id": "Zap7PgU-_zww"
   },
   "outputs": [
    {
     "data": {
      "text/plain": [
       "array([[23, 25, 18, 18, 21],\n",
       "       [18, 21, 28, 17, 12]])"
      ]
     },
     "execution_count": 108,
     "metadata": {},
     "output_type": "execute_result"
    }
   ],
   "source": [
    "#8. Hoán đổi cột 1 và cột 3 của mảng arr4\n",
    "arr4\n",
    "arr4[:,[0,2]] = arr4[:,[2,0]]\n",
    "arr4"
   ]
  },
  {
   "cell_type": "markdown",
   "metadata": {
    "id": "LFfCNDlf_zxH"
   },
   "source": [
    "<details>\n",
    "  <summary>Nhấn vào đây để xem kết quả !</summary>\n",
    "  \n",
    "  <pre>Trước khi hoán đổi: \n",
    " [[18 25 23 18 21]\n",
    " [28 21 18 17 12]]\n",
    "Sau khi hoán đổi: \n",
    " [[23 25 18 18 21]\n",
    " [18 21 28 17 12]]\n",
    "</pre>\n",
    "\n",
    "</details>"
   ]
  },
  {
   "cell_type": "code",
   "execution_count": null,
   "metadata": {
    "id": "AapIsDVX_zxL"
   },
   "outputs": [],
   "source": [
    "#9. Tạo mảng arr5 kích thước 7x7 với giá trị bên trong là 0 và các giá trị biên là 1\n",
    "arr5 "
   ]
  },
  {
   "cell_type": "markdown",
   "metadata": {
    "id": "XwWay1R7_zxd"
   },
   "source": [
    "<details>\n",
    "  <summary>Nhấn vào đây để xem kết quả !</summary>\n",
    "  \n",
    "  <pre>[[1 1 1 1 1 1 1]\n",
    " [1 0 0 0 0 0 1]\n",
    " [1 0 0 0 0 0 1]\n",
    " [1 0 0 0 0 0 1]\n",
    " [1 0 0 0 0 0 1]\n",
    " [1 0 0 0 0 0 1]\n",
    " [1 1 1 1 1 1 1]]\n",
    "</pre>\n",
    "\n",
    "</details>"
   ]
  },
  {
   "cell_type": "code",
   "execution_count": null,
   "metadata": {
    "id": "-YVCPnBC_zxf"
   },
   "outputs": [],
   "source": [
    "#10. Cộng thêm 3 vào các phần tử của mảng arr5\n"
   ]
  },
  {
   "cell_type": "markdown",
   "metadata": {
    "id": "JvBhcFLs_zxt"
   },
   "source": [
    "<details>\n",
    "  <summary>Nhấn vào đây để xem kết quả !</summary>\n",
    "  \n",
    "  <pre>array([[4, 4, 4, 4, 4, 4, 4],\n",
    "       [4, 3, 3, 3, 3, 3, 4],\n",
    "       [4, 3, 3, 3, 3, 3, 4],\n",
    "       [4, 3, 3, 3, 3, 3, 4],\n",
    "       [4, 3, 3, 3, 3, 3, 4],\n",
    "       [4, 3, 3, 3, 3, 3, 4],\n",
    "       [4, 4, 4, 4, 4, 4, 4]])\n",
    "</pre>\n",
    "\n",
    "</details>"
   ]
  },
  {
   "cell_type": "code",
   "execution_count": null,
   "metadata": {
    "id": "nHlj__s__zxw"
   },
   "outputs": [],
   "source": [
    "#11. Tạo mảng arr6 là mảng 1 chiều của mảng arr5 \n"
   ]
  },
  {
   "cell_type": "markdown",
   "metadata": {
    "id": "hUdmAC1j_zyT"
   },
   "source": [
    "<details>\n",
    "  <summary>Nhấn vào đây để xem kết quả !</summary>\n",
    "  \n",
    "  <pre>array([4, 4, 4, 4, 4, 4, 4, 4, 3, 3, 3, 3, 3, 4, 4, 3, 3, 3, 3, 3, 4, 4,\n",
    "       3, 3, 3, 3, 3, 4, 4, 3, 3, 3, 3, 3, 4, 4, 3, 3, 3, 3, 3, 4, 4, 4,\n",
    "       4, 4, 4, 4, 4])\n",
    "</pre>\n",
    "\n",
    "</details>"
   ]
  },
  {
   "cell_type": "code",
   "execution_count": null,
   "metadata": {
    "id": "Oj3FKGC6_zyW"
   },
   "outputs": [],
   "source": [
    "#12. Tạo mảng arr7 là 5 phần tử ngẫu nhiên từ arr3\n",
    "np.random.seed(8)\n"
   ]
  },
  {
   "cell_type": "markdown",
   "metadata": {
    "id": "IO1ER0Ju_zzW"
   },
   "source": [
    "<details>\n",
    "  <summary>Nhấn vào đây để xem kết quả !</summary>\n",
    "  \n",
    "  <pre>array([15, 34, 18, 21, 25])\n",
    "</pre>\n",
    "\n",
    "</details>"
   ]
  },
  {
   "cell_type": "markdown",
   "metadata": {
    "id": "HcCnHAGS_zzb"
   },
   "source": [
    "#### Part 2 - Đọc dữ liệu và tính toán thống kê"
   ]
  },
  {
   "cell_type": "code",
   "execution_count": null,
   "metadata": {
    "id": "js_aje47_zzj"
   },
   "outputs": [],
   "source": [
    "#1. Đọc dữ liệu từ tập tin shark.tsv (dữ liệu số vụ cá mập tấn công các tháng của 3 quốc gia USA,Australia,South Africa)\n",
    "# và đưa vào mảng shark (Gợi ý: sử dụng hàm np.genfromtxt)\n"
   ]
  },
  {
   "cell_type": "markdown",
   "metadata": {
    "id": "d1MMFLAK_z0K"
   },
   "source": [
    "<details>\n",
    "  <summary>Nhấn vào đây để xem kết quả !</summary>\n",
    "  \n",
    "  <pre>array([[ -1,  28,  94,  68],\n",
    "       [ -1,  27,  78,  32],\n",
    "       [ -1,  66,  63,  34],\n",
    "       [ -1, 103,  54,  25],\n",
    "       [ -1, 106,  21,  25],\n",
    "       [ -1, 173,  25,  22],\n",
    "       [ -1, 232,  25,  28],\n",
    "       [ -1, 208,  28,  15],\n",
    "       [ -1, 182,  35,  17],\n",
    "       [ -1, 141,  56,  16],\n",
    "       [ -1,  79,  65,  20],\n",
    "       [ -1,  37,  94,  46]])\n",
    "</pre>\n",
    "\n",
    "</details>"
   ]
  },
  {
   "cell_type": "code",
   "execution_count": null,
   "metadata": {
    "id": "cZi3vUFa_z0Y"
   },
   "outputs": [],
   "source": [
    "#2. Cho biết số phần tử mỗi chiều của mảng\n",
    "print(\"\")\n"
   ]
  },
  {
   "cell_type": "markdown",
   "metadata": {
    "id": "jF1zCpuz_z1A"
   },
   "source": [
    "<details>\n",
    "  <summary>Nhấn vào đây để xem kết quả !</summary>\n",
    "  \n",
    "  <pre>(12, 4)\n",
    "</pre>\n",
    "\n",
    "</details>"
   ]
  },
  {
   "cell_type": "code",
   "execution_count": null,
   "metadata": {
    "id": "aCNh2J_r_z1M"
   },
   "outputs": [],
   "source": [
    "#3. Thay cột 1 (giá trị -1) bằng giá trị tương ứng các tháng trong năm 1-12\n"
   ]
  },
  {
   "cell_type": "markdown",
   "metadata": {
    "id": "nkouIiuf_z1y"
   },
   "source": [
    "<details>\n",
    "  <summary>Nhấn vào đây để xem kết quả !</summary>\n",
    "  \n",
    "  <pre>array([[  1,  28,  94,  68],\n",
    "       [  2,  27,  78,  32],\n",
    "       [  3,  66,  63,  34],\n",
    "       [  4, 103,  54,  25],\n",
    "       [  5, 106,  21,  25],\n",
    "       [  6, 173,  25,  22],\n",
    "       [  7, 232,  25,  28],\n",
    "       [  8, 208,  28,  15],\n",
    "       [  9, 182,  35,  17],\n",
    "       [ 10, 141,  56,  16],\n",
    "       [ 11,  79,  65,  20],\n",
    "       [ 12,  37,  94,  46]])\n",
    "</pre>\n",
    "\n",
    "</details>"
   ]
  },
  {
   "cell_type": "code",
   "execution_count": null,
   "metadata": {
    "id": "N1yW2POD_z15"
   },
   "outputs": [],
   "source": [
    "#4. Hiển thị số vụ cá mập tấn công trung bình của 3 quốc gia\n"
   ]
  },
  {
   "cell_type": "markdown",
   "metadata": {
    "id": "i1uvcJc7_z2V"
   },
   "source": [
    "<details>\n",
    "  <summary>Nhấn vào đây để xem kết quả !</summary>\n",
    "  \n",
    "  <pre>array([115.16666667,  53.16666667,  29.        ])\n",
    "</pre>\n",
    "\n",
    "</details>"
   ]
  },
  {
   "cell_type": "code",
   "execution_count": null,
   "metadata": {
    "id": "71IVEorE_z2b"
   },
   "outputs": [],
   "source": [
    "#5. Hiển thị số vụ cá mập tấn công trung bình của mỗi tháng  \n"
   ]
  },
  {
   "cell_type": "markdown",
   "metadata": {
    "id": "eWadsSWe_z2x"
   },
   "source": [
    "<details>\n",
    "  <summary>Nhấn vào đây để xem kết quả !</summary>\n",
    "  \n",
    "  <pre>array([63.33333333, 45.66666667, 54.33333333, 60.66666667, 50.66666667,\n",
    "       73.33333333, 95.        , 83.66666667, 78.        , 71.        ,\n",
    "       54.66666667, 59.        ])\n",
    "</pre>\n",
    "\n",
    "</details>"
   ]
  },
  {
   "cell_type": "code",
   "execution_count": null,
   "metadata": {
    "id": "qWC2vxK1_z2z"
   },
   "outputs": [],
   "source": [
    "#6. Tạo thêm cột tổng số vụ cá mập tấn công theo mỗi tháng \n"
   ]
  },
  {
   "cell_type": "markdown",
   "metadata": {
    "id": "QFEbOB7I_z3F"
   },
   "source": [
    "<details>\n",
    "  <summary>Nhấn vào đây để xem kết quả !</summary>\n",
    "  \n",
    "  <pre>array([[  1,  28,  94,  68, 190],\n",
    "       [  2,  27,  78,  32, 137],\n",
    "       [  3,  66,  63,  34, 163],\n",
    "       [  4, 103,  54,  25, 182],\n",
    "       [  5, 106,  21,  25, 152],\n",
    "       [  6, 173,  25,  22, 220],\n",
    "       [  7, 232,  25,  28, 285],\n",
    "       [  8, 208,  28,  15, 251],\n",
    "       [  9, 182,  35,  17, 234],\n",
    "       [ 10, 141,  56,  16, 213],\n",
    "       [ 11,  79,  65,  20, 164],\n",
    "       [ 12,  37,  94,  46, 177]])\n",
    "</pre>\n",
    "\n",
    "</details>"
   ]
  },
  {
   "cell_type": "code",
   "execution_count": null,
   "metadata": {
    "id": "bqUp3K0X_z3H"
   },
   "outputs": [],
   "source": [
    "#7. Cho biết những tháng có tổng số vụ cá mập tấn công >200\n"
   ]
  },
  {
   "cell_type": "markdown",
   "metadata": {
    "id": "vCFU4BfL_z3o"
   },
   "source": [
    "<details>\n",
    "  <summary>Nhấn vào đây để xem kết quả !</summary>\n",
    "  \n",
    "  <pre>array([[  6, 173,  25,  22, 220],\n",
    "       [  7, 232,  25,  28, 285],\n",
    "       [  8, 208,  28,  15, 251],\n",
    "       [  9, 182,  35,  17, 234],\n",
    "       [ 10, 141,  56,  16, 213]])\n",
    "</pre>\n",
    "\n",
    "</details>"
   ]
  },
  {
   "cell_type": "code",
   "execution_count": null,
   "metadata": {
    "id": "O9s2G0B3_z3v"
   },
   "outputs": [],
   "source": [
    "#8. Cho biết tổng số vụ cá mập tấn công nhiều nhất trong tháng là bao nhiêu\n"
   ]
  },
  {
   "cell_type": "markdown",
   "metadata": {
    "id": "giEpDNsp_z4C"
   },
   "source": [
    "<details>\n",
    "  <summary>Nhấn vào đây để xem kết quả !</summary>\n",
    "  \n",
    "  <pre>285\n",
    "</pre>\n",
    "\n",
    "</details>"
   ]
  },
  {
   "cell_type": "code",
   "execution_count": null,
   "metadata": {
    "id": "PNUieu5a_z4E"
   },
   "outputs": [],
   "source": [
    "#9. Cho biết tháng nào có tổng số vụ cá mập tấn công nhiều nhất\n"
   ]
  },
  {
   "cell_type": "markdown",
   "metadata": {
    "id": "GVtBUdND_z4g"
   },
   "source": [
    "<details>\n",
    "  <summary>Nhấn vào đây để xem kết quả !</summary>\n",
    "  \n",
    "  <pre>Tháng có tổng số vụ cá mập tấn công nhiều nhất là tháng : 7\n",
    "</pre>\n",
    "\n",
    "</details>"
   ]
  },
  {
   "cell_type": "code",
   "execution_count": null,
   "metadata": {
    "id": "6lCkSWH9_z4j"
   },
   "outputs": [],
   "source": []
  }
 ],
 "metadata": {
  "colab": {
   "collapsed_sections": [],
   "name": "Bài làm thêm 1 - Numpy-HV.ipynb",
   "provenance": []
  },
  "kernelspec": {
   "display_name": "Python 3",
   "language": "python",
   "name": "python3"
  },
  "language_info": {
   "codemirror_mode": {
    "name": "ipython",
    "version": 3
   },
   "file_extension": ".py",
   "mimetype": "text/x-python",
   "name": "python",
   "nbconvert_exporter": "python",
   "pygments_lexer": "ipython3",
   "version": "3.8.5"
  }
 },
 "nbformat": 4,
 "nbformat_minor": 4
}
