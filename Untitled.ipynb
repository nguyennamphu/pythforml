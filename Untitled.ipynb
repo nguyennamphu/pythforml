{
 "cells": [
  {
   "cell_type": "code",
   "execution_count": 4,
   "id": "42a0a75f-912d-4b63-b9ca-c05875bc32b8",
   "metadata": {},
   "outputs": [],
   "source": [
    "import pandas as pd\n",
    "import numpy as np"
   ]
  },
  {
   "cell_type": "code",
   "execution_count": 17,
   "id": "3705a51c-ce16-4d3f-b5ae-9f409266152c",
   "metadata": {},
   "outputs": [
    {
     "data": {
      "text/plain": [
       "100     1\n",
       "101     4\n",
       "102     9\n",
       "103    16\n",
       "dtype: int64"
      ]
     },
     "execution_count": 17,
     "metadata": {},
     "output_type": "execute_result"
    }
   ],
   "source": [
    "s1 = pd.Series([1,2,3,4], index=[100,101,102,103])\n",
    "s2 = s1.map(lambda x: x * x)\n",
    "s2"
   ]
  },
  {
   "cell_type": "code",
   "execution_count": 14,
   "id": "91af09f0-dc78-4cdb-b807-55269b69e6a8",
   "metadata": {},
   "outputs": [
    {
     "data": {
      "text/plain": [
       "100    10\n",
       "1      10\n",
       "dtype: int64"
      ]
     },
     "execution_count": 14,
     "metadata": {},
     "output_type": "execute_result"
    }
   ],
   "source": [
    "s1[:2]"
   ]
  },
  {
   "cell_type": "code",
   "execution_count": null,
   "id": "d065eb32-9dba-4ce4-9a89-6d2bd8446873",
   "metadata": {},
   "outputs": [],
   "source": []
  }
 ],
 "metadata": {
  "kernelspec": {
   "display_name": "Python 3",
   "language": "python",
   "name": "python3"
  },
  "language_info": {
   "codemirror_mode": {
    "name": "ipython",
    "version": 3
   },
   "file_extension": ".py",
   "mimetype": "text/x-python",
   "name": "python",
   "nbconvert_exporter": "python",
   "pygments_lexer": "ipython3",
   "version": "3.8.5"
  }
 },
 "nbformat": 4,
 "nbformat_minor": 5
}
