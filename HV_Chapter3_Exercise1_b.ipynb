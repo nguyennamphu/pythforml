{
 "cells": [
  {
   "cell_type": "markdown",
   "metadata": {
    "colab_type": "text",
    "id": "dlvl6kiulffy"
   },
   "source": [
    "## Chapter 3 - Exercise 1b: Thực hiện các yêu cầu sau, và đối chiếu với kết quả cho trước"
   ]
  },
  {
   "cell_type": "code",
   "execution_count": 10,
   "metadata": {},
   "outputs": [
    {
     "output_type": "execute_result",
     "data": {
      "text/plain": [
       "array([2, 4])"
      ]
     },
     "metadata": {},
     "execution_count": 10
    }
   ],
   "source": [
    "import numpy as np\n",
    "# Câu 1: Cho 2 array arr_a = [1,2,3,2,3,4,3,4,5,6] và arr_b = [7,2,10,2,7,4,9,4,9,8]\n",
    "array_a = [1,2,3,2,3,4,3,4,5,6]\n",
    "array_b = [7,2,10,2,7,4,9,4,9,8]\n",
    "# Tạo arr_c chỉ lấy duy nhất các phần tử xuất hiện ở cả array arr_a và array arr_b\n",
    "array_c = np.intersect1d(array_a, array_b)\n",
    "array_c"
   ]
  },
  {
   "cell_type": "markdown",
   "metadata": {},
   "source": [
    "<details>\n",
    "  <summary>Nhấn vào đây để xem kết quả!</summary>\n",
    "  <pre>[2 4]\n",
    "</pre>\n",
    "  \n",
    "</details>"
   ]
  },
  {
   "cell_type": "code",
   "execution_count": 7,
   "metadata": {},
   "outputs": [
    {
     "output_type": "execute_result",
     "data": {
      "text/plain": [
       "array([1, 3, 5, 6])"
      ]
     },
     "metadata": {},
     "execution_count": 7
    }
   ],
   "source": [
    "# Câu 2: Từ 2 array arr_a và arr_b ở câu 1 => Tạo array mới arr_d chứa các phần tử chỉ xuất hiện ở array arr_a\n",
    "array_d = np.setdiff1d(array_a, array_c)\n",
    "array_d"
   ]
  },
  {
   "cell_type": "markdown",
   "metadata": {},
   "source": [
    "<details>\n",
    "  <summary>Nhấn vào đây để xem kết quả!</summary>\n",
    "  <pre>[1 3 5 6]\n",
    "</pre>\n",
    "  \n",
    "</details>"
   ]
  },
  {
   "cell_type": "code",
   "execution_count": 24,
   "metadata": {},
   "outputs": [
    {
     "output_type": "execute_result",
     "data": {
      "text/plain": [
       "array([ 6,  9, 10, 27,  8,  6, 25, 16])"
      ]
     },
     "metadata": {},
     "execution_count": 24
    }
   ],
   "source": [
    "# Câu 3: Cho array arr_e = np.array([2, 6, 1, 9, 10, 3, 27, 8, 6, 25, 16]) \n",
    "array_e = np.array([2, 6, 1, 9, 10, 3, 27, 8, 6, 25, 16]) \n",
    "# Tạo array arr_f chỉ chứa các phần tử có giá trị từ 5 đến 10 của arr_e\n",
    "array_f = array_e[ (array_e > 5) & (array_e < 10)]\n",
    "array_f"
   ]
  },
  {
   "cell_type": "markdown",
   "metadata": {},
   "source": [
    "<details>\n",
    "  <summary>Nhấn vào đây để xem kết quả!</summary>\n",
    "  <pre>[ 6  9 10  8  6]\n",
    "</pre>\n",
    "  \n",
    "</details>"
   ]
  }
 ],
 "metadata": {
  "colab": {
   "name": "Chapter3_Exercise1.ipynb",
   "provenance": []
  },
  "kernelspec": {
   "display_name": "Python 3",
   "language": "python",
   "name": "python3"
  },
  "language_info": {
   "codemirror_mode": {
    "name": "ipython",
    "version": 3
   },
   "file_extension": ".py",
   "mimetype": "text/x-python",
   "name": "python",
   "nbconvert_exporter": "python",
   "pygments_lexer": "ipython3",
   "version": "3.8.5"
  }
 },
 "nbformat": 4,
 "nbformat_minor": 1
}