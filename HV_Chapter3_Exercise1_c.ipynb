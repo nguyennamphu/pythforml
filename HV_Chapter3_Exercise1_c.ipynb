{
 "cells": [
  {
   "cell_type": "markdown",
   "metadata": {
    "colab_type": "text",
    "id": "dlvl6kiulffy"
   },
   "source": [
    "## Chapter 3 - Exercise 1c: Thực hiện các yêu cầu sau, và đối chiếu với kết quả cho trước"
   ]
  },
  {
   "cell_type": "code",
   "execution_count": 109,
   "metadata": {},
   "outputs": [
    {
     "output_type": "execute_result",
     "data": {
      "text/plain": [
       "array([0., 0., 0., 0., 0., 1., 0., 0., 0., 0.])"
      ]
     },
     "metadata": {},
     "execution_count": 109
    }
   ],
   "source": [
    "import numpy as np\n",
    "# Câu 1: Tạo array arr_zeros có 10 phần tử 0, cập nhật phần tử ở vị trí thứ 5 là 1\n",
    "arr_zeros = np.zeros(10)\n",
    "arr_zeros[5]=1\n",
    "arr_zeros\n",
    "\n"
   ]
  },
  {
   "cell_type": "markdown",
   "metadata": {},
   "source": [
    "<details>\n",
    "  <summary>Nhấn vào đây để xem kết quả!</summary>\n",
    "  <pre>[0. 0. 0. 0. 0. 0. 0. 0. 0. 0.]\n",
    "[0. 0. 0. 0. 1. 0. 0. 0. 0. 0.]\n",
    "</pre>\n",
    "  \n",
    "</details>"
   ]
  },
  {
   "cell_type": "code",
   "execution_count": 113,
   "metadata": {},
   "outputs": [
    {
     "output_type": "execute_result",
     "data": {
      "text/plain": [
       "array([24, 23, 22, 21, 20, 19, 18, 17, 16, 15, 14, 13, 12, 11, 10])"
      ]
     },
     "metadata": {},
     "execution_count": 113
    }
   ],
   "source": [
    "# Câu 2: Tạo và in array arr_h có giá trị từ 10 đến 24 \n",
    "arr_h = np.arange(10,25)\n",
    "\n",
    "# In danh sách các phần tử theo tứ tự đảo ngược của arr_h vừa tạo\n",
    "arr_h = arr_h[::-1]\n",
    "arr_h"
   ]
  },
  {
   "cell_type": "markdown",
   "metadata": {},
   "source": [
    "<details>\n",
    "  <summary>Nhấn vào đây để xem kết quả!</summary>\n",
    "  <pre>[10 11 12 13 14 15 16 17 18 19 20 21 22 23 24]\n",
    "[24 23 22 21 20 19 18 17 16 15 14 13 12 11 10]\n",
    "</pre>\n",
    "  \n",
    "</details>"
   ]
  },
  {
   "cell_type": "code",
   "execution_count": 128,
   "metadata": {},
   "outputs": [
    {
     "output_type": "execute_result",
     "data": {
      "text/plain": [
       "array([1, 2, 8, 2, 1, 3, 5])"
      ]
     },
     "metadata": {},
     "execution_count": 128
    }
   ],
   "source": [
    "# Câu 3: Cho array arr_k = np.array([1, 2, 0, 8, 2, 0, 1, 3, 0, 5, 0]) \n",
    "arr_k = np.array([1, 2, 0, 8, 2, 0, 1, 3, 0, 5, 0])\n",
    "# Tạo array arr_l từ arr_k với các phần tử khác 0\n",
    "arr_l = arr_k[arr_k!=0]\n",
    "arr_l"
   ]
  },
  {
   "cell_type": "markdown",
   "metadata": {},
   "source": [
    "<details>\n",
    "  <summary>Nhấn vào đây để xem kết quả!</summary>\n",
    "  <pre>[1 2 0 8 2 0 1 3 0 5 0]\n",
    "[1 2 8 2 1 3 5]\n",
    "</pre>\n",
    "  \n",
    "</details>"
   ]
  },
  {
   "cell_type": "code",
   "execution_count": 134,
   "metadata": {},
   "outputs": [
    {
     "output_type": "execute_result",
     "data": {
      "text/plain": [
       "array([ 1,  2,  8,  2,  1,  3,  5, 10, 20])"
      ]
     },
     "metadata": {},
     "execution_count": 134
    }
   ],
   "source": [
    "# Câu 4: Từ array arr_l của câu 3, thêm 2 phần tử có giá trị là 10 và 20 vào cuối array\n",
    "arr_m = np.append(arr_l, [10,20])\n",
    "arr_m"
   ]
  },
  {
   "cell_type": "markdown",
   "metadata": {},
   "source": [
    "<details>\n",
    "  <summary>Nhấn vào đây để xem kết quả!</summary>\n",
    "  <pre>[ 1  2  8  2  1  3  5 10 20]\n",
    "</pre>\n",
    "  \n",
    "</details>"
   ]
  },
  {
   "cell_type": "code",
   "execution_count": 137,
   "metadata": {},
   "outputs": [
    {
     "output_type": "execute_result",
     "data": {
      "text/plain": [
       "array([  1,   2,   8,   2,   1, 100,   3,   5,  10,  20])"
      ]
     },
     "metadata": {},
     "execution_count": 137
    }
   ],
   "source": [
    "# Câu 5: Từ array của câu 4, thêm phần tử có giá trị 100 vào vị trí có index = 5\n",
    "arr_h = np.insert(arr_m, 5, 100)\n",
    "arr_h"
   ]
  },
  {
   "cell_type": "markdown",
   "metadata": {},
   "source": [
    "<details>\n",
    "  <summary>Nhấn vào đây để xem kết quả!</summary>\n",
    "  <pre>[  1   2   8   2   1 100   3   5  10  20]\n",
    "</pre>\n",
    "  \n",
    "</details>"
   ]
  },
  {
   "cell_type": "code",
   "execution_count": 143,
   "metadata": {},
   "outputs": [
    {
     "output_type": "execute_result",
     "data": {
      "text/plain": [
       "array([  2,   1, 100,   3,   5,  10,  20])"
      ]
     },
     "metadata": {},
     "execution_count": 143
    }
   ],
   "source": [
    "# Câu 6: Từ array của câu 5, xóa các phần tử tại vị trí có index = 0, 1, 2\n",
    "arr_d = np.delete(arr_h, [0,1,2])\n",
    "arr_d\n"
   ]
  },
  {
   "cell_type": "markdown",
   "metadata": {},
   "source": [
    "<details>\n",
    "  <summary>Nhấn vào đây để xem kết quả!</summary>\n",
    "  <pre>[  2   1 100   3   5  10  20]\n",
    "</pre>\n",
    "  \n",
    "</details>"
   ]
  }
 ],
 "metadata": {
  "colab": {
   "name": "Chapter3_Exercise1.ipynb",
   "provenance": []
  },
  "kernelspec": {
   "display_name": "Python 3",
   "language": "python",
   "name": "python3"
  },
  "language_info": {
   "codemirror_mode": {
    "name": "ipython",
    "version": 3
   },
   "file_extension": ".py",
   "mimetype": "text/x-python",
   "name": "python",
   "nbconvert_exporter": "python",
   "pygments_lexer": "ipython3",
   "version": "3.9.5"
  }
 },
 "nbformat": 4,
 "nbformat_minor": 1
}