{
 "cells": [
  {
   "cell_type": "markdown",
   "metadata": {
    "colab_type": "text",
    "id": "dlvl6kiulffy"
   },
   "source": [
    "## Chapter 3 - Exercise 1a: Thực hiện các yêu cầu sau, và đối chiếu với kết quả cho trước"
   ]
  },
  {
   "cell_type": "code",
   "execution_count": 5,
   "metadata": {
    "colab": {},
    "colab_type": "code",
    "id": "gr8DM63nlff1"
   },
   "outputs": [],
   "source": [
    "import numpy as np"
   ]
  },
  {
   "cell_type": "code",
   "execution_count": 6,
   "metadata": {
    "colab": {},
    "colab_type": "code",
    "id": "xBDidl2SmUe2"
   },
   "outputs": [
    {
     "output_type": "execute_result",
     "data": {
      "text/plain": [
       "(10,)"
      ]
     },
     "metadata": {},
     "execution_count": 6
    }
   ],
   "source": [
    "# Câu 1: Tạo numpy array có giá trị từ 0-9 và lưu vào biến arr\n",
    "myArr = np.arange(10)\n",
    "\n",
    "# Hiển thị các phần tử có trong arr\n",
    "myArr\n",
    "# Xem kiểu dữ liệu (type) của arr\n",
    "arrType = myArr.dtype\n",
    "arrType\n",
    "# Xem kích thước (shape) của arr\n",
    "sizes = myArr.shape\n",
    "\n",
    "sizes\n"
   ]
  },
  {
   "cell_type": "markdown",
   "metadata": {},
   "source": [
    "<details>\n",
    "  <summary>Nhấn vào đây để xem kết quả!</summary>\n",
    "  <pre>[0 1 2 3 4 5 6 7 8 9]\n",
    "&lt;class 'numpy.ndarray'&gt;\n",
    "(10,)\n",
    "</pre>\n",
    "  \n",
    "</details>"
   ]
  },
  {
   "cell_type": "code",
   "execution_count": 8,
   "metadata": {
    "colab": {},
    "colab_type": "code",
    "id": "h1gyIEtolff4"
   },
   "outputs": [
    {
     "output_type": "stream",
     "name": "stdout",
     "text": [
      "Odd array\n[0 2 4 6 8]\nEven array\n[1 3 5 7 9]\n"
     ]
    }
   ],
   "source": [
    "# Câu 2: Từ array arr ở câu 1 => tạo arr_odd và arr_even \n",
    "arr_odd = myArr[myArr%2==0]\n",
    "arr_even = myArr[myArr%2!=0]\n",
    "\n",
    "\n",
    "# Hiển thị các phần tử có trong arr_odd và arr_even\n",
    "print(\"Odd array\")\n",
    "print(arr_odd)\n",
    "print(\"Even array\")\n",
    "print(arr_even)\n"
   ]
  },
  {
   "cell_type": "markdown",
   "metadata": {},
   "source": [
    "<details>\n",
    "  <summary>Nhấn vào đây để xem kết quả!</summary>\n",
    "  <pre>Odd array:\n",
    "[1 3 5 7 9]\n",
    "Event array:\n",
    "[0 2 4 6 8]\n",
    "</pre>\n",
    "  \n",
    "</details>"
   ]
  },
  {
   "cell_type": "code",
   "execution_count": 12,
   "metadata": {
    "colab": {},
    "colab_type": "code",
    "id": "OL6Y8tdxlff6"
   },
   "outputs": [
    {
     "output_type": "execute_result",
     "data": {
      "text/plain": [
       "array([  0, 100,   2, 100,   4, 100,   6, 100,   8, 100])"
      ]
     },
     "metadata": {},
     "execution_count": 12
    }
   ],
   "source": [
    "# Câu 3: Từ array arr ở câu 1=> tạo arr_update_1 với các phần tử chẵn giữ nguyên, các phần tử lẻ thay bằng 100\n",
    "arra_update_1 = myArr\n",
    "\n",
    "arra_update_1 = np.where(arra_update_1%2!=0, 100, arra_update_1)\n",
    "\n",
    "arra_update_1\n",
    "\n",
    "# Hiển thị các phần tử có trong arr_update_1\n"
   ]
  },
  {
   "cell_type": "markdown",
   "metadata": {},
   "source": [
    "<details>\n",
    "  <summary>Nhấn vào đây để xem kết quả!</summary>\n",
    "  <pre>[  0 100   2 100   4 100   6 100   8 100]\n",
    "</pre>\n",
    "  \n",
    "</details>"
   ]
  }
 ],
 "metadata": {
  "colab": {
   "name": "Chapter3_Exercise1.ipynb",
   "provenance": []
  },
  "kernelspec": {
   "display_name": "Python 3",
   "language": "python",
   "name": "python3"
  },
  "language_info": {
   "codemirror_mode": {
    "name": "ipython",
    "version": 3
   },
   "file_extension": ".py",
   "mimetype": "text/x-python",
   "name": "python",
   "nbconvert_exporter": "python",
   "pygments_lexer": "ipython3",
   "version": "3.8.5"
  }
 },
 "nbformat": 4,
 "nbformat_minor": 4
}